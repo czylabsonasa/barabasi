{
 "cells": [
  {
   "cell_type": "markdown",
   "metadata": {},
   "source": [
    "# Barabási-model in R\n",
    "the function named \"barabasi\" is an R implementation of the classical random graph."
   ]
  },
  {
   "cell_type": "code",
   "execution_count": 1,
   "metadata": {
    "collapsed": false
   },
   "outputs": [],
   "source": [
    "barabasi<-function(m,n_step){\n",
    "# parameters:\n",
    "# input:\n",
    "# m: how many old vertices are chosen at each step? (m>1)\n",
    "# n_step: number of steps including the initial one\n",
    "# output:\n",
    "# edge: an array for storing the edges\n",
    "# local:\n",
    "# chosen: for temp storing\n",
    "# i_edge: the idx of the last edge in edge\n",
    "\n",
    "    n_edge<-((n_step-1)*m+(m*(m-1))/2)\n",
    "    edge<-vector('integer',2*n_edge)\n",
    "    dim(edge)<-c(n_edge,2)\n",
    "    chosen<-vector('integer',m)\n",
    "    i_edge<-0\n",
    "\n",
    "# initial step, inserting a complete m-graph\n",
    "    for(it in 1:(m-1)){ #4:2 is 4,3,2!\n",
    "        for(jt in (it+1):m){\n",
    "            i_edge<-i_edge+1\n",
    "            edge[i_edge,]<-c(it,jt)\n",
    "        }\n",
    "    }\n",
    "    i_vertex<-m\n",
    "\n",
    "# generating the graf\n",
    "    for(i_step in 2:n_step){\n",
    "# choosing the future neighbours for the new one\n",
    "        i_m<-0\n",
    "        while(i_m<m){\n",
    "            v<-edge[1+floor(i_edge*runif(1)),1+floor(2*runif(1))]\n",
    "            it<-1;\n",
    "            while(it<=i_m){\n",
    "                if(chosen[it]==v){\n",
    "                    break\n",
    "                }\n",
    "                it<-it+1\n",
    "            }\n",
    "            if(it>i_m){\n",
    "                i_m<-i_m+1\n",
    "                chosen[i_m]<-v\n",
    "            }\n",
    "        }\n",
    "\n",
    "# inserting the new edges\n",
    "        i_vertex<-i_vertex+1\n",
    "        for(i_m in 1:m){\n",
    "            i_edge<-i_edge+1\n",
    "            edge[i_edge,]=c(chosen[i_m],i_vertex);\n",
    "        }\n",
    "    }\n",
    "    return(edge)\n",
    "} #function"
   ]
  },
  {
   "cell_type": "markdown",
   "metadata": {},
   "source": [
    "generating the graph with parameters below:"
   ]
  },
  {
   "cell_type": "code",
   "execution_count": 2,
   "metadata": {
    "collapsed": false
   },
   "outputs": [
    {
     "data": {
      "text/plain": [
       "   user  system elapsed \n",
       "  1.640   0.000   1.679 "
      ]
     },
     "metadata": {},
     "output_type": "display_data"
    }
   ],
   "source": [
    "m<-3\n",
    "n_step<-30000;\n",
    "system.time(edge<-barabasi(m, n_step))\n",
    "write(t(edge),ncolumns = 2,'edgelist_R')"
   ]
  },
  {
   "cell_type": "markdown",
   "metadata": {},
   "source": [
    "plotting the degree distribution in loglog scale:"
   ]
  },
  {
   "cell_type": "code",
   "execution_count": 47,
   "metadata": {
    "collapsed": false
   },
   "outputs": [
    {
     "data": {
      "image/png": "[encoded data removed]",
      "text/plain": [
       "plot without title"
      ]
     },
     "metadata": {},
     "output_type": "display_data"
    }
   ],
   "source": [
    "n_edge<-((n_step-1)*m+(m*(m-1))/2)\n",
    "n_vertex<-m+n_step-1\n",
    "dim(edge)=c(2*n_edge,1)\n",
    "dist=tabulate(tabulate(edge))\n",
    "plot(log(1:length(dist)),log(dist/n_vertex),pch=19,cex=0.3,col=4)"
   ]
  },
  {
   "cell_type": "code",
   "execution_count": null,
   "metadata": {
    "collapsed": true
   },
   "outputs": [],
   "source": []
  }
 ],
 "metadata": {
  "kernelspec": {
   "display_name": "R",
   "language": "R",
   "name": "ir"
  },
  "language_info": {
   "codemirror_mode": "r",
   "file_extension": ".r",
   "mimetype": "text/x-r-source",
   "name": "R",
   "pygments_lexer": "r",
   "version": "3.3.2"
  }
 },
 "nbformat": 4,
 "nbformat_minor": 2
}
