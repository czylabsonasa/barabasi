{
 "cells": [
  {
   "cell_type": "markdown",
   "metadata": {},
   "source": [
    "# Barabási-model in Python/numpy\n"
   ]
  },
  {
   "cell_type": "code",
   "execution_count": 2,
   "metadata": {
    "collapsed": true
   },
   "outputs": [],
   "source": [
    "import numpy as np\n",
    "from math import floor\n",
    "from numpy.random import random\n",
    "import matplotlib.pyplot as plt\n",
    "import time\n"
   ]
  },
  {
   "cell_type": "markdown",
   "metadata": {},
   "source": [
    "the function named \"barabasi\" is a numPy implementation of the classical random graph."
   ]
  },
  {
   "cell_type": "code",
   "execution_count": 3,
   "metadata": {
    "collapsed": false
   },
   "outputs": [],
   "source": [
    "def barabasi(m,n_step):\n",
    "# parameters:\n",
    "# input:\n",
    "# m: how many old vertices are chosen at each step? (m>1)\n",
    "# n_step: number of steps including the initial one\n",
    "# output:\n",
    "# edge: an array for storing the edges\n",
    "# local:\n",
    "# chosen: for temp storing\n",
    "# i_edge: the idx of the last edge in edge\n",
    "\n",
    "    n_edge=int((n_step-1)*m+(m*(m-1))/2)\n",
    "    edge=np.zeros(2*n_edge,dtype=np.int)\n",
    "    chosen=np.zeros(m,dtype=np.int)\n",
    "    i_edge=0 \n",
    "\n",
    "    # initial step, inserting a complete m-graph\n",
    "    for it in np.arange(1,m):\n",
    "        for jt in np.arange(it+1,m+1):\n",
    "            edge[i_edge]=it\n",
    "            i_edge+=1\n",
    "            edge[i_edge]=jt\n",
    "            i_edge+=1\n",
    "    i_vertex=m\n",
    "\n",
    "# generating the graf\n",
    "    for i_step in np.arange(2,n_step+1):\n",
    "# choosing the future neighbours for the new one\n",
    "        i_m=0\n",
    "        while i_m<m:\n",
    "            v=edge[1+floor(i_edge*random())]\n",
    "            it=0\n",
    "            while it<i_m:\n",
    "                if chosen[it]==v:\n",
    "                    break\n",
    "                it+=1\n",
    "            \n",
    "            if it>=i_m:\n",
    "                chosen[i_m]=v\n",
    "                i_m+=1\n",
    "                \n",
    "# inserting the new edges\n",
    "        i_vertex+=1\n",
    "        for i_m in np.arange(0,m):\n",
    "            edge[i_edge]=chosen[i_m]\n",
    "            i_edge+=1\n",
    "            edge[i_edge]=i_vertex\n",
    "            i_edge+=1\n",
    "\n",
    "    return edge\n",
    "#end function"
   ]
  },
  {
   "cell_type": "markdown",
   "metadata": {},
   "source": [
    "generating the graph with parameters below:"
   ]
  },
  {
   "cell_type": "code",
   "execution_count": 9,
   "metadata": {
    "collapsed": false
   },
   "outputs": [
    {
     "name": "stdout",
     "output_type": "stream",
     "text": [
      "3.4879045486450195\n"
     ]
    }
   ],
   "source": [
    "m=3\n",
    "n_step=300000\n",
    "st=time.time()\n",
    "edge=barabasi(m, n_step)\n",
    "print(time.time()-st)\n",
    "#write(t(edge),ncolumns = 2,'edgelist_R')"
   ]
  },
  {
   "cell_type": "markdown",
   "metadata": {},
   "source": [
    "plotting the degree distribution in loglog scale:"
   ]
  },
  {
   "cell_type": "code",
   "execution_count": 8,
   "metadata": {
    "collapsed": false
   },
   "outputs": [
    {
     "data": {
      "image/png": "[encoded data removed]",
      "text/plain": [
       "<matplotlib.figure.Figure at 0x7f6d97562438>"
      ]
     },
     "metadata": {},
     "output_type": "display_data"
    }
   ],
   "source": [
    "n_edge=int((n_step-1)*m+(m*(m-1))/2)\n",
    "n_vertex=m+n_step-1\n",
    "dist=np.bincount(np.bincount(edge))\n",
    "X=dist.nonzero()[0]\n",
    "plt.scatter(np.log(X.astype(float)),np.log(dist[X].astype(float)/n_vertex),s=8)\n",
    "plt.show()"
   ]
  },
  {
   "cell_type": "code",
   "execution_count": null,
   "metadata": {
    "collapsed": true
   },
   "outputs": [],
   "source": []
  }
 ],
 "metadata": {
  "kernelspec": {
   "display_name": "Python 3",
   "language": "python",
   "name": "python3"
  },
  "language_info": {
   "codemirror_mode": {
    "name": "ipython",
    "version": 3
   },
   "file_extension": ".py",
   "mimetype": "text/x-python",
   "name": "python",
   "nbconvert_exporter": "python",
   "pygments_lexer": "ipython3",
   "version": "3.5.3"
  }
 },
 "nbformat": 4,
 "nbformat_minor": 2
}
