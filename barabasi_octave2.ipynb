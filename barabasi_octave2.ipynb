{
 "cells": [
  {
   "cell_type": "markdown",
   "metadata": {},
   "source": [
    "# Barabási-model in Octave\n",
    "\n",
    "the function named \"barabasi\" is an octave implementation of the classical random graph."
   ]
  },
  {
   "cell_type": "code",
   "execution_count": 2,
   "metadata": {
    "collapsed": true
   },
   "outputs": [],
   "source": [
    "'script!';# dummy line for interpreting as script\n",
    "function edge=barabasi(m,n_step)\n",
    "# parameters:\n",
    "# input:\n",
    "# m: how many old vertices are chosen at each step? m>1\n",
    "# n_step: number of steps including the initial one\n",
    "# output:\n",
    "# edge: an array for storing the edges, 1dim\n",
    "# local:\n",
    "# chosen: for temp storing\n",
    "# i_edge: the idx of the last edge in edge\n",
    "# n_step=10000;\n",
    "# m=3;\n",
    "\n",
    "    n_edge=(m*(m-1))/2+m*(n_step-1);\n",
    "    edge=zeros(2*n_edge,1);\n",
    "    chosen=zeros(m+1,1);\n",
    "    i_edge=0;\n",
    "\n",
    "# initial step, inserting a complete m-graph\n",
    "    for it=1:m\n",
    "        for jt=(it+1):m\n",
    "            ++i_edge;\n",
    "            edge(i_edge)=it;\n",
    "            ++i_edge;\n",
    "            edge(i_edge)=jt;\n",
    "        end\n",
    "    end\n",
    "    i_vertex=m;\n",
    "\n",
    "\n",
    "# generating the graf\n",
    "    for i_step=2:n_step\n",
    "# choosing the future neighbours of the new one\n",
    "        i_m=0;\n",
    "        while i_m<m\n",
    "            v=edge(randi(i_edge));\n",
    "            it=1;\n",
    "            while it<=i_m\n",
    "                if(chosen(it)==v)\n",
    "                    break;\n",
    "                end\n",
    "                ++it;\n",
    "            end\n",
    "            if it>i_m\n",
    "                ++i_m;\n",
    "                chosen(i_m)=v;\n",
    "            end\n",
    "        end\n",
    "\n",
    "# inserting the new edges\n",
    "        i_vertex=i_vertex+1;\n",
    "        for i_m=1:m\n",
    "            ++i_edge;\n",
    "            edge(i_edge)=chosen(i_m);\n",
    "            ++i_edge;\n",
    "            edge(i_edge)=i_vertex;\n",
    "        end\n",
    "    end\n",
    "    #edge=reshape(edge,2,n_edge)';\n",
    "end #function\n"
   ]
  },
  {
   "cell_type": "markdown",
   "metadata": {},
   "source": [
    "generating the graph with parameters below:"
   ]
  },
  {
   "cell_type": "code",
   "execution_count": 3,
   "metadata": {
    "collapsed": false
   },
   "outputs": [
    {
     "name": "stdout",
     "output_type": "stream",
     "text": [
      "Elapsed time is 21.7112 seconds.\n"
     ]
    }
   ],
   "source": [
    "m=3;\n",
    "n_step=30000;\n",
    "tic\n",
    "edge=barabasi(m, n_step);\n",
    "toc\n"
   ]
  },
  {
   "cell_type": "markdown",
   "metadata": {},
   "source": [
    "let's compute and plot the degree distribution in loglog scale:\n"
   ]
  },
  {
   "cell_type": "code",
   "execution_count": 4,
   "metadata": {
    "collapsed": false
   },
   "outputs": [
    {
     "data": {
      "image/png": "[encoded data removed]",
      "text/plain": [
       "<IPython.core.display.Image object>"
      ]
     },
     "metadata": {},
     "output_type": "display_data"
    }
   ],
   "source": [
    "n_vertex=m+n_step-1;\n",
    "pkg load statistics\n",
    "dist=tabulate(edge);\n",
    "dist=tabulate(dist(:,2));\n",
    "#dist\n",
    "plot(log(dist(:,1)),log(dist(:,2)/n_vertex),'.')\n"
   ]
  },
  {
   "cell_type": "code",
   "execution_count": null,
   "metadata": {
    "collapsed": true
   },
   "outputs": [],
   "source": [
    "dlmwrite('edgelist_octave',reshape(edge,2,n_edge)',' ');\n"
   ]
  }
 ],
 "metadata": {
  "kernelspec": {
   "display_name": "Octave",
   "language": "octave",
   "name": "octave"
  },
  "language_info": {
   "file_extension": ".m",
   "help_links": [
    {
     "text": "GNU Octave",
     "url": "https://www.gnu.org/software/octave/support.html"
    },
    {
     "text": "Octave Kernel",
     "url": "https://github.com/Calysto/octave_kernel"
    },
    {
     "text": "MetaKernel Magics",
     "url": "https://github.com/calysto/metakernel/blob/master/metakernel/magics/README.md"
    }
   ],
   "mimetype": "text/x-octave",
   "name": "octave",
   "version": "4.0.3"
  }
 },
 "nbformat": 4,
 "nbformat_minor": 2
}
