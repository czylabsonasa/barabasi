{
 "cells": [
  {
   "cell_type": "markdown",
   "metadata": {},
   "source": [
    "# Barabási/Julia/Benchmark"
   ]
  },
  {
   "cell_type": "code",
   "execution_count": 28,
   "metadata": {
    "collapsed": false
   },
   "outputs": [
    {
     "data": {
      "text/plain": [
       "barabasi (generic function with 1 method)"
      ]
     },
     "execution_count": 28,
     "metadata": {},
     "output_type": "execute_result"
    }
   ],
   "source": [
    "function barabasi(m,n_step)\n",
    "# parameters:\n",
    "# input:\n",
    "# m: how many old vertices are chosen at each step? (m>1)\n",
    "# n_step: number of steps including the initial one\n",
    "# output:\n",
    "# edge: an array for storing the edges\n",
    "# local:\n",
    "# chosen: for temp storing\n",
    "# i_edge: the idx of the last edge in edge\n",
    "\n",
    "    n_edge=(n_step-1)*m+div(m*(m-1),2)\n",
    "    edge=zeros(Int32,2*n_edge)\n",
    "    chosen=zeros(Int32,m)\n",
    "    i_edge=0\n",
    "\n",
    "    # initial step, inserting a complete m-graph\n",
    "    for it in 1:(m-1)\n",
    "        for jt in (it+1):m\n",
    "            edge[i_edge+=1]=it\n",
    "            edge[i_edge+=1]=jt\n",
    "        end\n",
    "    end\n",
    "    i_vertex=m\n",
    "\n",
    "# generating the graf\n",
    "    for i_step in 2:n_step\n",
    "# choosing the future neighbours for the new one\n",
    "        i_m=1\n",
    "        while i_m<=m\n",
    "            v=edge[Int(1+floor(i_edge*rand()))]\n",
    "            it=1\n",
    "            while it<=i_m\n",
    "                if chosen[it]==v\n",
    "                    break\n",
    "                end\n",
    "                it+=1\n",
    "            end\n",
    "                \n",
    "            if it>i_m\n",
    "                chosen[i_m]=v\n",
    "                i_m+=1\n",
    "            end\n",
    "        end\n",
    "# inserting the new edges\n",
    "        i_vertex+=1\n",
    "        for i_m in 1:m\n",
    "            edge[i_edge+=1]=chosen[i_m]\n",
    "            edge[i_edge+=1]=i_vertex\n",
    "        end\n",
    "    end\n",
    "    return edge\n",
    "end"
   ]
  },
  {
   "cell_type": "markdown",
   "metadata": {},
   "source": [
    "simulate the graph different step-sizes:"
   ]
  },
  {
   "cell_type": "code",
   "execution_count": 30,
   "metadata": {
    "collapsed": false
   },
   "outputs": [],
   "source": [
    "m=3\n",
    "n_step=Int32(10)\n",
    "max_step=Int32(1000000)\n",
    "q=Float32(1.5)\n",
    "n_rep=Int32(10)\n",
    "f=open(\"result.dat\",\"w\")\n",
    "while n_step<max_step\n",
    "    best=0.0\n",
    "    for i in 1:n_rep\n",
    "        st=time()\n",
    "        edge=barabasi(m, n_step);\n",
    "        st=time()-st\n",
    "        if i==1\n",
    "            best=st\n",
    "        else\n",
    "            best=min(st,best)\n",
    "        end\n",
    "    end\n",
    "    write(f,\"$m $n_step $best julia\\n\")\n",
    "    n_step=Int32(floor(n_step*q))\n",
    "end\n",
    "close(f)\n"
   ]
  },
  {
   "cell_type": "code",
   "execution_count": null,
   "metadata": {
    "collapsed": true
   },
   "outputs": [],
   "source": []
  }
 ],
 "metadata": {
  "kernelspec": {
   "display_name": "Julia 0.4.7",
   "language": "julia",
   "name": "julia-0.4"
  },
  "language_info": {
   "file_extension": ".jl",
   "mimetype": "application/julia",
   "name": "julia",
   "version": "0.4.7"
  }
 },
 "nbformat": 4,
 "nbformat_minor": 2
}
