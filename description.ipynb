{
 "cells": [
  {
   "cell_type": "markdown",
   "metadata": {},
   "source": [
    "ez a dokumentum megtalálható a \n",
    "[https://github.com/czylabsonasa/barabasinb/blob/master/description.ipynb](https://github.com/czylabsonasa/barabasinb/blob/master/description.ipynb) -helyen"
   ]
  },
  {
   "cell_type": "markdown",
   "metadata": {},
   "source": [
    "# Referencia implementáció\n",
    "Elsőként a véletlengráf-modellek állatorvosi lovát a Barabási-modellt valósítottuk meg c++ nyelven. A gráfábrázolás éllistával történik, mely egyszerűen implementálható és a segítségével a \"preferential attachment\" választás egyenletes választássá redukálódik. A megvalósítás megtalálható a \n",
    "[https://github.com/czylabsonasa/barabasinb/cc/baraSima.cc](https://github.com/czylabsonasa/barabasinb/cc/baraSima.cc) -helyen."
   ]
  },
  {
   "cell_type": "markdown",
   "metadata": {},
   "source": [
    "# Nyelvek\n",
    "Programozási nyelvek/környezetek sokasága áll a kutatók/oktatók rendelkezésére - a nehézséget nem az erőforrások elérése, inkább az adott feladathoz a \"legjobb\" nyelv/környezet kiválasztása jelenti, melynek megoldásához a Jupyter környezet  ([http://www.jupyter.org](http://www.jupyter.org)) óriási segítség: egységes felületet biztosít rengeteg nyelvhez/környezethez. Kezdetként a következő nyelveken készítettük el a modell-generátort:\n",
    "1. octave (matlab)\n",
    "2. R\n",
    "3. python/numpy\n",
    "4. julia\n",
    "\n",
    "A programok Jupyter-jegyzetfüzet formában megtalálhatóak a [https://github.com/czylabsonasa/barabasinb](https://github.com/czylabsonasa/barabasinb) -helyen."
   ]
  },
  {
   "cell_type": "markdown",
   "metadata": {
    "collapsed": true
   },
   "source": [
    "# Mérési eredmények\n",
    "\n",
    "Egységes Jupyter(python) alapú benchmark kidolgozása folyamatban."
   ]
  },
  {
   "cell_type": "markdown",
   "metadata": {},
   "source": [
    "# További nyelvek\n",
    "folyamatban (fortran,golang)"
   ]
  },
  {
   "cell_type": "code",
   "execution_count": null,
   "metadata": {
    "collapsed": true
   },
   "outputs": [],
   "source": []
  }
 ],
 "metadata": {
  "kernelspec": {
   "display_name": "Python 3",
   "language": "python",
   "name": "python3"
  },
  "language_info": {
   "codemirror_mode": {
    "name": "ipython",
    "version": 3
   },
   "file_extension": ".py",
   "mimetype": "text/x-python",
   "name": "python",
   "nbconvert_exporter": "python",
   "pygments_lexer": "ipython3",
   "version": "3.5.3"
  }
 },
 "nbformat": 4,
 "nbformat_minor": 2
}
