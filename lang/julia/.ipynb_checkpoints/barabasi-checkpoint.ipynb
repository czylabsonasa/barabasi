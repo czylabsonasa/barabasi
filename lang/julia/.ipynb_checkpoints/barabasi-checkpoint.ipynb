{
 "cells": [
  {
   "cell_type": "markdown",
   "metadata": {},
   "source": [
    "# Barabási-model in Julia\n",
    "the function named \"barabasi\" is a Julia implementation of the classical random graph.\n"
   ]
  },
  {
   "cell_type": "code",
   "execution_count": 1,
   "metadata": {},
   "outputs": [
    {
     "data": {
      "text/plain": [
       "barabasi (generic function with 1 method)"
      ]
     },
     "execution_count": 1,
     "metadata": {},
     "output_type": "execute_result"
    }
   ],
   "source": [
    "function barabasi(m,n_step)\n",
    "# parameters:\n",
    "# input:\n",
    "# m: how many old vertices are chosen at each step? (m>1)\n",
    "# n_step: number of steps including the initial one\n",
    "# output:\n",
    "# edge: an array for storing the edges\n",
    "# local:\n",
    "# chosen: for temp storing\n",
    "# i_edge: the idx of the last edge in edge\n",
    "\n",
    "    n_edge=(n_step-1)*m+div(m*(m-1),2)\n",
    "    edge=zeros(Int32,2*n_edge)\n",
    "    chosen=zeros(Int32,m)\n",
    "    i_edge=0\n",
    "\n",
    "    # initial step, inserting a complete m-graph\n",
    "    for it in 1:(m-1)\n",
    "        for jt in (it+1):m\n",
    "            edge[i_edge+=1]=it\n",
    "            edge[i_edge+=1]=jt\n",
    "        end\n",
    "    end\n",
    "    i_vertex=m\n",
    "\n",
    "# generating the graf\n",
    "    for i_step in 2:n_step\n",
    "# choosing the future neighbours for the new one\n",
    "        i_m=1\n",
    "        while i_m<=m\n",
    "            v=edge[Int(1+floor(i_edge*rand()))]\n",
    "            it=1\n",
    "            while it<=i_m\n",
    "                if chosen[it]==v\n",
    "                    break\n",
    "                end\n",
    "                it+=1\n",
    "            end\n",
    "                \n",
    "            if it>i_m\n",
    "                chosen[i_m]=v\n",
    "                i_m+=1\n",
    "            end\n",
    "        end\n",
    "# inserting the new edges\n",
    "        i_vertex+=1\n",
    "        for i_m in 1:m\n",
    "            edge[i_edge+=1]=chosen[i_m]\n",
    "            edge[i_edge+=1]=i_vertex\n",
    "        end\n",
    "    end\n",
    "    return edge\n",
    "end"
   ]
  },
  {
   "cell_type": "markdown",
   "metadata": {},
   "source": [
    "generating the graph with parameters below:"
   ]
  },
  {
   "cell_type": "code",
   "execution_count": 2,
   "metadata": {},
   "outputs": [
    {
     "name": "stdout",
     "output_type": "stream",
     "text": [
      "  0.035550 seconds (21.03 k allocations: 1.077 MB)\n"
     ]
    }
   ],
   "source": [
    "m=3\n",
    "n_step=3000\n",
    "@time edge=barabasi(m, n_step);\n"
   ]
  },
  {
   "cell_type": "markdown",
   "metadata": {},
   "source": [
    "plotting the degree distribution in loglog scale:"
   ]
  },
  {
   "cell_type": "code",
   "execution_count": 3,
   "metadata": {},
   "outputs": [
    {
     "data": {
      "text/plain": [
       "fr3q (generic function with 1 method)"
      ]
     },
     "execution_count": 3,
     "metadata": {},
     "output_type": "execute_result"
    }
   ],
   "source": [
    "#X: positive integers\n",
    "#mX: max(X)\n",
    "function fr3q(X,mX)\n",
    "    nX=length(X)\n",
    "    F=zeros(Int32,mX)\n",
    "    mF=0\n",
    "    for it in 1:nX\n",
    "        F[X[it]]+=1\n",
    "        if F[X[it]] > mF\n",
    "            mF=F[X[it]]\n",
    "        end\n",
    "    end\n",
    "    return F,mF\n",
    "end"
   ]
  },
  {
   "cell_type": "code",
   "execution_count": 4,
   "metadata": {},
   "outputs": [
    {
     "name": "stdout",
     "output_type": "stream",
     "text": [
      "1.0000000000000004"
     ]
    },
    {
     "data": {
      "image/png": "[encoded data removed]",
      "text/plain": [
       "Winston.FramedPlot(...)"
      ]
     },
     "execution_count": 4,
     "metadata": {},
     "output_type": "execute_result"
    }
   ],
   "source": [
    "n_edge=(n_step-1)*m+div(m*(m-1),2)\n",
    "n_vertex=m+n_step-1\n",
    "#println(edge)\n",
    "F,mF=fr3q(edge,n_vertex)\n",
    "#println(F)\n",
    "F,_=fr3q(F,mF);\n",
    "#println(F)\n",
    "poz=F.>0;\n",
    "x=(1:mF)[poz];\n",
    "y=F[poz]\n",
    "print(sum(y/n_vertex))\n",
    "using Winston\n",
    "plot(log(x),log(y/n_vertex),\".b\")\n",
    "\n"
   ]
  }
 ],
 "metadata": {
  "kernelspec": {
   "display_name": "Julia 0.4.7",
   "language": "julia",
   "name": "julia-0.4"
  },
  "language_info": {
   "file_extension": ".jl",
   "mimetype": "application/julia",
   "name": "julia",
   "version": "0.4.7"
  }
 },
 "nbformat": 4,
 "nbformat_minor": 2
}
