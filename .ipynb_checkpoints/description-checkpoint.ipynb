{
 "cells": [
  {
   "cell_type": "markdown",
   "metadata": {},
   "source": [
    "# Referencia implementáció\n",
    "A véletlengráf-modellek állatorvosi lovát a Barabási-modellt implementáltuk c++ nyelven. A gráfábrázolás éllistával történik, mely egyszerűen implementálható és a segítségével a \"preferential attachment\" választás egyenletes választássá \n",
    "redukálódik. A megvalósítás megtalálható a "
   ]
  },
  {
   "cell_type": "markdown",
   "metadata": {},
   "source": [
    "# Nyelvek\n",
    "Programozási nyelvek/környezetek sokasága áll a kutatók/oktatók rendelkezésére - a nehézséget nem az erőforrások elérése, inkább az adott feladathoz a \"legjobb\" nyelv/környezet kiválasztása jelenti, melynek megoldásához a Jupyter környezet  ([http://www.jupyter.org](http://www.jupyter.org)) óriási segítség: egységes felületet biztosít rengeteg nyelvhez/környezethez. Kezdetként a következő nyelveken készítettük el a modell-generátort:\n",
    "1. octave (matlab)\n",
    "2. R\n",
    "3. python/numpy\n",
    "4. julia\n",
    "\n",
    "Ezek megtalálhatóak a [https://github.com/czylabsonasa/barabasinb](https://github.com/czylabsonasa/barabasinb) -helyen."
   ]
  },
  {
   "cell_type": "code",
   "execution_count": null,
   "metadata": {
    "collapsed": true
   },
   "outputs": [],
   "source": [
    "#"
   ]
  }
 ],
 "metadata": {
  "kernelspec": {
   "display_name": "Python 3",
   "language": "python",
   "name": "python3"
  },
  "language_info": {
   "codemirror_mode": {
    "name": "ipython",
    "version": 3
   },
   "file_extension": ".py",
   "mimetype": "text/x-python",
   "name": "python",
   "nbconvert_exporter": "python",
   "pygments_lexer": "ipython3",
   "version": "3.5.3"
  }
 },
 "nbformat": 4,
 "nbformat_minor": 2
}
