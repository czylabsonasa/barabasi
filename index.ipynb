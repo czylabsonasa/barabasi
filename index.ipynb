{
 "cells": [
  {
   "cell_type": "markdown",
   "metadata": {},
   "source": [
    "# Barabási implementations\n",
    "all of the codes below use no explicit data structure for graph -\n",
    "a simple list is maintained to make possible preferential attachment linking.\n",
    "* [plain R](./barabasi_R.ipynb)\n",
    "* [octave](./barabasi_octave.ipynb)\n",
    "* [octave v2](./barabasi_octave2.ipynb) - tabulate\n",
    "* [numpy](./barabasi_numPy.ipynb)"
   ]
  },
  {
   "cell_type": "code",
   "execution_count": null,
   "metadata": {
    "collapsed": true
   },
   "outputs": [],
   "source": []
  }
 ],
 "metadata": {
  "kernelspec": {
   "display_name": "Python 3",
   "language": "python",
   "name": "python3"
  },
  "language_info": {
   "codemirror_mode": {
    "name": "ipython",
    "version": 3
   },
   "file_extension": ".py",
   "mimetype": "text/x-python",
   "name": "python",
   "nbconvert_exporter": "python",
   "pygments_lexer": "ipython3",
   "version": "3.5.3"
  }
 },
 "nbformat": 4,
 "nbformat_minor": 2
}
