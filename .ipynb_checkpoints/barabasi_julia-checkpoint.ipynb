{
 "cells": [
  {
   "cell_type": "markdown",
   "metadata": {},
   "source": [
    "# Barabási-model in Julia\n",
    "the function named \"barabasi\" is a Julia implementation of the classical random graph.\n"
   ]
  },
  {
   "cell_type": "code",
   "execution_count": 1,
   "metadata": {},
   "outputs": [
    {
     "data": {
      "text/plain": [
       "barabasi (generic function with 1 method)"
      ]
     },
     "execution_count": 1,
     "metadata": {},
     "output_type": "execute_result"
    }
   ],
   "source": [
    "function barabasi(m,n_step)\n",
    "# parameters:\n",
    "# input:\n",
    "# m: how many old vertices are chosen at each step? (m>1)\n",
    "# n_step: number of steps including the initial one\n",
    "# output:\n",
    "# edge: an array for storing the edges\n",
    "# local:\n",
    "# chosen: for temp storing\n",
    "# i_edge: the idx of the last edge in edge\n",
    "\n",
    "    n_edge=(n_step-1)*m+div(m*(m-1),2)\n",
    "    edge=zeros(Int32,2*n_edge)\n",
    "    chosen=zeros(Int32,m)\n",
    "    i_edge=0\n",
    "\n",
    "    # initial step, inserting a complete m-graph\n",
    "    for it in 1:(m-1)\n",
    "        for jt in (it+1):m\n",
    "            edge[i_edge+=1]=it\n",
    "            edge[i_edge+=1]=jt\n",
    "        end\n",
    "    end\n",
    "    i_vertex=m\n",
    "\n",
    "# generating the graf\n",
    "    for i_step in 2:n_step\n",
    "# choosing the future neighbours for the new one\n",
    "        i_m=1\n",
    "        while i_m<m\n",
    "            v=edge[Int(1+floor(i_edge*rand()))]\n",
    "            it=1\n",
    "            while it<=i_m\n",
    "                if chosen[it]==v\n",
    "                    break\n",
    "                end\n",
    "                it+=1\n",
    "            end\n",
    "                \n",
    "            if it>i_m\n",
    "                chosen[i_m]=v\n",
    "                i_m+=1\n",
    "            end\n",
    "        end\n",
    "# inserting the new edges\n",
    "        i_vertex+=1\n",
    "        for i_m in 1:m\n",
    "            edge[i_edge+=1]=chosen[i_m]\n",
    "            edge[i_edge+=1]=i_vertex\n",
    "        end\n",
    "    end\n",
    "    return edge\n",
    "end"
   ]
  },
  {
   "cell_type": "markdown",
   "metadata": {},
   "source": [
    "generating the graph with parameters below:"
   ]
  },
  {
   "cell_type": "code",
   "execution_count": 5,
   "metadata": {},
   "outputs": [
    {
     "name": "stdout",
     "output_type": "stream",
     "text": [
      "  0.000009 seconds (6 allocations: 1.031 KB)\n"
     ]
    }
   ],
   "source": [
    "m=3\n",
    "n_step=30\n",
    "@time edge=barabasi(m, n_step);\n"
   ]
  },
  {
   "cell_type": "markdown",
   "metadata": {},
   "source": [
    "plotting the degree distribution in loglog scale:"
   ]
  },
  {
   "cell_type": "code",
   "execution_count": 4,
   "metadata": {},
   "outputs": [
    {
     "data": {
      "text/plain": [
       "fr3q (generic function with 1 method)"
      ]
     },
     "execution_count": 4,
     "metadata": {},
     "output_type": "execute_result"
    }
   ],
   "source": [
    "#X: positive integers\n",
    "#mX: max(X)\n",
    "function fr3q(X,mX)\n",
    "    nX=length(X)\n",
    "    F=zeros(Int32,mX)\n",
    "    mF=0\n",
    "    for it in 1:nX\n",
    "        F[X[it]]+=1\n",
    "        if F[X[it]] > mF\n",
    "            mF=F[X[it]]\n",
    "        end\n",
    "    end\n",
    "    return F,mF\n",
    "end"
   ]
  },
  {
   "cell_type": "code",
   "execution_count": 6,
   "metadata": {},
   "outputs": [
    {
     "name": "stderr",
     "output_type": "stream",
     "text": [
      "\u001b[1m\u001b[31mWARNING: int(x::AbstractFloat) is deprecated, use round(Int,x) instead.\u001b[0m\n",
      " in depwarn at ./deprecated.jl:73\n",
      "while loading In[6], in expression starting on line 1\n"
     ]
    },
    {
     "ename": "LoadError",
     "evalue": "BoundsError: attempt to access 32-element Array{Int32,1}:\n 2\n 3\n 3\n 2\n 0\n 0\n 0\n 0\n 0\n 0\n 0\n 0\n 0\n ⋮\n 0\n 0\n 0\n 0\n 0\n 0\n 0\n 0\n 0\n 0\n 0\n 0\n  at index [0]",
     "output_type": "error",
     "traceback": [
      "BoundsError: attempt to access 32-element Array{Int32,1}:\n 2\n 3\n 3\n 2\n 0\n 0\n 0\n 0\n 0\n 0\n 0\n 0\n 0\n ⋮\n 0\n 0\n 0\n 0\n 0\n 0\n 0\n 0\n 0\n 0\n 0\n 0\n  at index [0]",
      "",
      " in fr3q at ./In[4]:8"
     ]
    }
   ],
   "source": [
    "n_edge=int((n_step-1)*m+(m*(m-1))/2)\n",
    "n_vertex=m+n_step-1\n",
    "F,mF=fr3q(edge,n_vertex)\n",
    "F,mF=fr3q(F,mF)\n",
    "print(F)\n"
   ]
  },
  {
   "cell_type": "code",
   "execution_count": null,
   "metadata": {},
   "outputs": [],
   "source": []
  }
 ],
 "metadata": {
  "kernelspec": {
   "display_name": "Julia 0.4.5",
   "language": "julia",
   "name": "julia-0.4"
  },
  "language_info": {
   "file_extension": ".jl",
   "mimetype": "application/julia",
   "name": "julia",
   "version": "0.4.5"
  }
 },
 "nbformat": 4,
 "nbformat_minor": 2
}
