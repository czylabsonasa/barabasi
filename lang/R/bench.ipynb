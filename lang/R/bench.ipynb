{
 "cells": [
  {
   "cell_type": "markdown",
   "metadata": {},
   "source": [
    "# Barabási/R/Benchmark\n",
    "$$\\sum_i f(i)$$"
   ]
  },
  {
   "cell_type": "code",
   "execution_count": 1,
   "metadata": {},
   "outputs": [],
   "source": [
    "barabasi<-function(m,n_step){\n",
    "# parameters:\n",
    "# input:\n",
    "# m: how many old vertices are chosen at each step? (m>1)\n",
    "# n_step: number of steps including the initial one\n",
    "# output:\n",
    "# edge: an array for storing the edges\n",
    "# local:\n",
    "# chosen: for temp storing\n",
    "# i_edge: the idx of the last edge in edge\n",
    "\n",
    "    n_edge<-((n_step-1)*m+(m*(m-1))/2)\n",
    "    edge<-vector('integer',2*n_edge)\n",
    "    dim(edge)<-c(n_edge,2)\n",
    "    chosen<-vector('integer',m)\n",
    "    i_edge<-0\n",
    "\n",
    "# initial step, inserting a complete m-graph\n",
    "    for(it in 1:(m-1)){ #4:2 is 4,3,2!\n",
    "        for(jt in (it+1):m){\n",
    "            i_edge<-i_edge+1\n",
    "            edge[i_edge,]<-c(it,jt)\n",
    "        }\n",
    "    }\n",
    "    i_vertex<-m\n",
    "\n",
    "# generating the graf\n",
    "    for(i_step in 2:n_step){\n",
    "# choosing the future neighbours for the new one\n",
    "        i_m<-0\n",
    "        while(i_m<m){\n",
    "            v<-edge[1+floor(i_edge*runif(1)),1+floor(2*runif(1))]\n",
    "            it<-1;\n",
    "            while(it<=i_m){\n",
    "                if(chosen[it]==v){\n",
    "                    break\n",
    "                }\n",
    "                it<-it+1\n",
    "            }\n",
    "            if(it>i_m){\n",
    "                i_m<-i_m+1\n",
    "                chosen[i_m]<-v\n",
    "            }\n",
    "        }\n",
    "\n",
    "# inserting the new edges\n",
    "        i_vertex<-i_vertex+1\n",
    "        for(i_m in 1:m){\n",
    "            i_edge<-i_edge+1\n",
    "            edge[i_edge,]=c(chosen[i_m],i_vertex);\n",
    "        }\n",
    "    }\n",
    "    return(edge)\n",
    "} #function"
   ]
  },
  {
   "cell_type": "code",
   "execution_count": 30,
   "metadata": {},
   "outputs": [],
   "source": [
    "help(\"cat\")"
   ]
  },
  {
   "cell_type": "code",
   "execution_count": 37,
   "metadata": {},
   "outputs": [],
   "source": [
    "m<-3\n",
    "n_step<-10\n",
    "max_step<-100000\n",
    "q<-1.5\n",
    "n_rep<-3\n",
    "jel<-FALSE\n",
    "while(n_step < max_step){\n",
    "    best<-0;\n",
    "    for(i in 1:n_rep){\n",
    "        st<-system.time(edge<-barabasi(m, n_step))\n",
    "        if(i == 1){\n",
    "            best<-st[\"user.self\"]\n",
    "        }else{\n",
    "            best<-min(best,st[\"user.self\"])\n",
    "        }\n",
    "    }\n",
    "    cat(append=jel,file='result.dat',m,\" \",n_step,\" \",best,\" R\\n\")\n",
    "    jel<-TRUE\n",
    "    n_step=floor(q*n_step)\n",
    "}    \n"
   ]
  },
  {
   "cell_type": "code",
   "execution_count": null,
   "metadata": {
    "collapsed": true
   },
   "outputs": [],
   "source": []
  }
 ],
 "metadata": {
  "kernelspec": {
   "display_name": "R",
   "language": "R",
   "name": "ir"
  },
  "language_info": {
   "codemirror_mode": "r",
   "file_extension": ".r",
   "mimetype": "text/x-r-source",
   "name": "R",
   "pygments_lexer": "r",
   "version": "3.3.2"
  }
 },
 "nbformat": 4,
 "nbformat_minor": 2
}
